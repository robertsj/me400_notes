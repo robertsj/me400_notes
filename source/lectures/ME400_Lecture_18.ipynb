{
 "cells": [
  {
   "cell_type": "markdown",
   "metadata": {},
   "source": [
    "# Lecture 18 - SymPy: Symbols, Expressions, and Equations.\n",
    "\n",
    "## Overview, Objectives, and Key Terms\n",
    " \n",
    "From [Lecture 1](ME400_Lecture_7.ipynb) through [Lecture 17](ME400_Lecture_17.ipynb), the focus has been squarely on the fundamentals of programming, with some basic numerical tools (like numerical arrays and plotting) and best practices (like unit testing) included along the way.  This lecture marks a transition to new topics that will leverage the material already covered and provide students with tools for solving difficult analytical or numerical problems common to upper-level engineering courses.  In particular, the SymPy module will be used to define *symbols* and *symbolic expressions*, leading to a very different (but very useful) tool for the engineer's toolbox.\n",
    "\n",
    "### Objectives\n",
    "\n",
    "By the end of this lesson, you should be able to\n",
    "\n",
    "- Define symbols and symbolic expressions using SymPy\n",
    "- Define and solve systems of symbolic equations\n",
    "- Manipulate expressions by applying simplification and other symbolic tools. \n",
    "\n",
    "### Key Terms\n",
    "\n",
    "- `sympy`\n",
    "- `sympy.Symbol`\n",
    "- `sympy.symbols`\n",
    "- `sympy.init_printing`\n",
    "- `sympy.solve`\n",
    "- `sympy.evalf`\n",
    "- `sympy.simplify`\n",
    "- `sympy.expand`\n",
    "- `sympy.collect`"
   ]
  },
  {
   "cell_type": "markdown",
   "metadata": {},
   "source": [
    "## Symbols \n",
    "\n",
    "Symbolic computation, as the name suggests, depends on *symbols*.  Unlike numerical computation, in which one manipulates *values*, symbolic computations involves the manipulation of symbols.  That's just like when you made the jump from grade-school number crunching to algebra for the first time.  Now, we get to do it again (for, I hope, more interesting \n",
    "problems and with the help of Python).\n",
    "\n",
    "Start by importing SymPy (using `sp` as an abbreviation) as follows:"
   ]
  },
  {
   "cell_type": "code",
   "execution_count": 1,
   "metadata": {
    "collapsed": true
   },
   "outputs": [],
   "source": [
    "import sympy as sp"
   ]
  },
  {
   "cell_type": "markdown",
   "metadata": {},
   "source": [
    "A symbol can be defined using the `Symbol` function, whose single argument is a string representing the name of the symbol.  For example, the symbol $x$ can be defined by"
   ]
  },
  {
   "cell_type": "code",
   "execution_count": 2,
   "metadata": {},
   "outputs": [
    {
     "data": {
      "text/plain": [
       "x"
      ]
     },
     "execution_count": 2,
     "metadata": {},
     "output_type": "execute_result"
    }
   ],
   "source": [
    "x = sp.Symbol('x')\n",
    "x"
   ]
  },
  {
   "cell_type": "code",
   "execution_count": 3,
   "metadata": {},
   "outputs": [
    {
     "data": {
      "text/plain": [
       "sympy.core.symbol.Symbol"
      ]
     },
     "execution_count": 3,
     "metadata": {},
     "output_type": "execute_result"
    }
   ],
   "source": [
    "type(x)"
   ]
  },
  {
   "cell_type": "markdown",
   "metadata": {},
   "source": [
    "That was easy.  We could do the same thing for $x$, $y$, and $z$, but an all-in-one approach is"
   ]
  },
  {
   "cell_type": "code",
   "execution_count": 4,
   "metadata": {
    "collapsed": true
   },
   "outputs": [],
   "source": [
    "x, y, z = sp.symbols('x y z')"
   ]
  },
  {
   "cell_type": "markdown",
   "metadata": {},
   "source": [
    "SymPy does not require that the string given to `Symbol` or `symbols` matches in any meaningful way to the name to which the symbol is assigned.  For example, one could (but should *not*) do"
   ]
  },
  {
   "cell_type": "code",
   "execution_count": 5,
   "metadata": {},
   "outputs": [
    {
     "data": {
      "text/plain": [
       "u"
      ]
     },
     "execution_count": 5,
     "metadata": {},
     "output_type": "execute_result"
    }
   ],
   "source": [
    "v = sp.Symbol('u')\n",
    "v"
   ]
  },
  {
   "cell_type": "markdown",
   "metadata": {},
   "source": [
    "Such naming, of course, could lead to confusion, bugs, etc."
   ]
  },
  {
   "cell_type": "markdown",
   "metadata": {},
   "source": [
    "## Nicer Output\n",
    "\n",
    "When a mathematical symbol is defined, it is often given a special font, e.g., \"x\" would be typeset as $x$ and not `x`. SymPy provides a way to get nicer output in IPython consoles and Jupyter notebooks.  One just needs to do"
   ]
  },
  {
   "cell_type": "code",
   "execution_count": 6,
   "metadata": {
    "collapsed": true
   },
   "outputs": [],
   "source": [
    "sp.init_printing()"
   ]
  },
  {
   "cell_type": "markdown",
   "metadata": {},
   "source": [
    "Note how the output of `x` changes slightly:"
   ]
  },
  {
   "cell_type": "code",
   "execution_count": 7,
   "metadata": {},
   "outputs": [
    {
     "data": {
      "image/png": "[encoded data removed]",
      "text/latex": [
       "$$x$$"
      ],
      "text/plain": [
       "x"
      ]
     },
     "execution_count": 7,
     "metadata": {},
     "output_type": "execute_result"
    }
   ],
   "source": [
    "x"
   ]
  },
  {
   "cell_type": "markdown",
   "metadata": {},
   "source": [
    "This nicely typeset format will be very useful for reading and understanding complex, symbolic expressions.  In fact, it supports some pretty neat formatting features.  For example, a symbol like $x_0$ is often used to represent an initial value for some quantity $x$.  We might express that in Python as `x0` or `x_0`.  In SymPy, both styles work:"
   ]
  },
  {
   "cell_type": "code",
   "execution_count": 8,
   "metadata": {},
   "outputs": [
    {
     "data": {
      "image/png": "[encoded data removed]",
      "text/latex": [
       "$$\\left ( x_{0}, \\quad y_{0}\\right )$$"
      ],
      "text/plain": [
       "(x₀, y₀)"
      ]
     },
     "execution_count": 8,
     "metadata": {},
     "output_type": "execute_result"
    }
   ],
   "source": [
    "x0, y_0 = sp.symbols('x0  y_0')\n",
    "x0, y_0"
   ]
  },
  {
   "cell_type": "markdown",
   "metadata": {},
   "source": [
    "Actually, this output not only confirms that subscripts can be formatted as expected, but it shows that SymPy `symbol` can be placed in containers like any other Python type."
   ]
  },
  {
   "cell_type": "markdown",
   "metadata": {},
   "source": [
    "## Symbolic Expressions\n",
    "\n",
    "We can use symbols to define mathematical expressions.  For instance, we know that the total energy of a system is given by its (relativistic) mass times the speed of light squared, i.e.,"
   ]
  },
  {
   "cell_type": "code",
   "execution_count": 9,
   "metadata": {},
   "outputs": [
    {
     "data": {
      "image/png": "[encoded data removed]",
      "text/latex": [
       "$$c^{2} m$$"
      ],
      "text/plain": [
       " 2  \n",
       "c ⋅m"
      ]
     },
     "execution_count": 9,
     "metadata": {},
     "output_type": "execute_result"
    }
   ],
   "source": [
    "m, c = sp.symbols('m c')\n",
    "m*c**2"
   ]
  },
  {
   "cell_type": "markdown",
   "metadata": {},
   "source": [
    "Notice that the expression's order was changed.  The particular order of symbols in the stored expression may differ from the expression originally entered. \n",
    "\n",
    "When storing expressions, Sympy often performs simplification automatically, e.g.,"
   ]
  },
  {
   "cell_type": "code",
   "execution_count": 10,
   "metadata": {},
   "outputs": [
    {
     "data": {
      "image/png": "[encoded data removed]",
      "text/latex": [
       "$$x^{4}$$"
      ],
      "text/plain": [
       " 4\n",
       "x "
      ]
     },
     "execution_count": 10,
     "metadata": {},
     "output_type": "execute_result"
    }
   ],
   "source": [
    "x*x*x*x"
   ]
  },
  {
   "cell_type": "markdown",
   "metadata": {},
   "source": [
    "but not always, e.g.,"
   ]
  },
  {
   "cell_type": "code",
   "execution_count": 11,
   "metadata": {},
   "outputs": [
    {
     "data": {
      "image/png": "[encoded data removed]",
      "text/latex": [
       "$$x \\left(x + 2\\right)$$"
      ],
      "text/plain": [
       "x⋅(x + 2)"
      ]
     },
     "execution_count": 11,
     "metadata": {},
     "output_type": "execute_result"
    }
   ],
   "source": [
    "x*(x+2)"
   ]
  },
  {
   "cell_type": "markdown",
   "metadata": {},
   "source": [
    "Just as one can assign the result of evaluated expressions (e.g., `2**3`) to a variable name, so too, can symbolic expressions be assigned.  For example, we can define"
   ]
  },
  {
   "cell_type": "code",
   "execution_count": 12,
   "metadata": {},
   "outputs": [
    {
     "data": {
      "image/png": "[encoded data removed]",
      "text/latex": [
       "$$c^{2} m$$"
      ],
      "text/plain": [
       " 2  \n",
       "c ⋅m"
      ]
     },
     "execution_count": 12,
     "metadata": {},
     "output_type": "execute_result"
    }
   ],
   "source": [
    "E = m*c**2\n",
    "E"
   ]
  },
  {
   "cell_type": "markdown",
   "metadata": {},
   "source": [
    "However, now `E` is a symbolic variable (here, a `sympy.core.mul.Mul`, but that's just a detail) and can be manipulated just like any other symbol, e.g., "
   ]
  },
  {
   "cell_type": "code",
   "execution_count": 13,
   "metadata": {},
   "outputs": [
    {
     "data": {
      "image/png": "[encoded data removed]",
      "text/latex": [
       "$$c^{4} m^{2}$$"
      ],
      "text/plain": [
       " 4  2\n",
       "c ⋅m "
      ]
     },
     "execution_count": 13,
     "metadata": {},
     "output_type": "execute_result"
    }
   ],
   "source": [
    "E**2"
   ]
  },
  {
   "cell_type": "markdown",
   "metadata": {},
   "source": [
    "In many cases, we wish to do a sequence of symbolic computations before substituting numerical value.  We know, for example, that the speed of light is about 300 million meters per second, and we can substitute that value in $c$ by"
   ]
  },
  {
   "cell_type": "code",
   "execution_count": 14,
   "metadata": {},
   "outputs": [
    {
     "data": {
      "image/png": "[encoded data removed]",
      "text/latex": [
       "$$9.0 \\cdot 10^{16} m$$"
      ],
      "text/plain": [
       "9.0e+16⋅m"
      ]
     },
     "execution_count": 14,
     "metadata": {},
     "output_type": "execute_result"
    }
   ],
   "source": [
    "E.subs(c, 3e8)"
   ]
  },
  {
   "cell_type": "markdown",
   "metadata": {},
   "source": [
    "Note that this does *not* change the original expression:"
   ]
  },
  {
   "cell_type": "code",
   "execution_count": 15,
   "metadata": {},
   "outputs": [
    {
     "data": {
      "image/png": "[encoded data removed]",
      "text/latex": [
       "$$c^{2} m$$"
      ],
      "text/plain": [
       " 2  \n",
       "c ⋅m"
      ]
     },
     "execution_count": 15,
     "metadata": {},
     "output_type": "execute_result"
    }
   ],
   "source": [
    "E"
   ]
  },
  {
   "cell_type": "markdown",
   "metadata": {},
   "source": [
    "To save the result of the substitution, one needs to assign it to a new name, e.g.,"
   ]
  },
  {
   "cell_type": "code",
   "execution_count": 16,
   "metadata": {},
   "outputs": [
    {
     "data": {
      "image/png": "[encoded data removed]",
      "text/latex": [
       "$$9.0 \\cdot 10^{16} m$$"
      ],
      "text/plain": [
       "9.0e+16⋅m"
      ]
     },
     "execution_count": 16,
     "metadata": {},
     "output_type": "execute_result"
    }
   ],
   "source": [
    "Esub = E.subs(c, 3e8)\n",
    "Esub"
   ]
  },
  {
   "cell_type": "markdown",
   "metadata": {},
   "source": [
    "You may (or may not) recall that the relativistic mass is given\n",
    "by $m = m_0 / \\sqrt{1+(c/v)^2}$, where $m_0$ is the\n",
    "rest mass of an object and $v$ is the magnitude of its velocity.\n",
    "We can substitute this, too, via"
   ]
  },
  {
   "cell_type": "code",
   "execution_count": 17,
   "metadata": {},
   "outputs": [
    {
     "data": {
      "image/png": "[encoded data removed]",
      "text/latex": [
       "$$\\frac{9.0 \\cdot 10^{16} m_{0}}{\\sqrt{\\frac{c^{2}}{v^{2}} + 1}}$$"
      ],
      "text/plain": [
       "  9.0e+16⋅m₀  \n",
       "──────────────\n",
       "      ________\n",
       "     ╱  2     \n",
       "    ╱  c      \n",
       "   ╱   ── + 1 \n",
       "  ╱     2     \n",
       "╲╱     v      "
      ]
     },
     "execution_count": 17,
     "metadata": {},
     "output_type": "execute_result"
    }
   ],
   "source": [
    "m_0, v = sp.symbols('m_0 v')\n",
    "E.subs({m:m_0/sp.sqrt(1+(c/v)**2), c:3e8})"
   ]
  },
  {
   "cell_type": "markdown",
   "metadata": {},
   "source": [
    "Note three things. First, the argument to `E.subs` is a dictionary, with keys equal to the symbols being replaced and values equal to what is being added in place of those keys.  Second, the function `sp.sqrt` has been used.  Only symbolic functions (in the `sympy` module) should generally be used in symbolic expressions.  Third, $c$ appears in the denominator even though we attempted to substitute its numerical value.  The solution is to use *chained substitution*, e.g.,"
   ]
  },
  {
   "cell_type": "code",
   "execution_count": 18,
   "metadata": {},
   "outputs": [
    {
     "data": {
      "image/png": "[encoded data removed]",
      "text/latex": [
       "$$\\frac{9.0 \\cdot 10^{16} m_{0}}{\\sqrt{1 + \\frac{1}{v^{2}} 9.0 \\cdot 10^{16}}}$$"
      ],
      "text/plain": [
       "    9.0e+16⋅m₀    \n",
       "──────────────────\n",
       "     _____________\n",
       "    ╱     9.0e+16 \n",
       "   ╱  1 + ─────── \n",
       "  ╱           2   \n",
       "╲╱           v    "
      ]
     },
     "execution_count": 18,
     "metadata": {},
     "output_type": "execute_result"
    }
   ],
   "source": [
    "E.subs({m: m_0/sp.sqrt(1+(c/v)**2)}).subs({c: 3e8})"
   ]
  },
  {
   "cell_type": "markdown",
   "metadata": {},
   "source": [
    "## Symbolic Equations"
   ]
  },
  {
   "cell_type": "markdown",
   "metadata": {},
   "source": [
    "From above, we saw that symbolic expressions can be assigned to  a name, e.g., $E=mc^2$.  That would, at first glance, appear to be an equation.  However, in the world of SymPy, equations are defined by use of the function $Eq$.  For example,  we could define the following equation:"
   ]
  },
  {
   "cell_type": "code",
   "execution_count": 19,
   "metadata": {
    "collapsed": true
   },
   "outputs": [],
   "source": [
    "a, b, x, y = sp.symbols('a b x y')"
   ]
  },
  {
   "cell_type": "code",
   "execution_count": 20,
   "metadata": {},
   "outputs": [
    {
     "data": {
      "image/png": "[encoded data removed]",
      "text/latex": [
       "$$a x = b y$$"
      ],
      "text/plain": [
       "a⋅x = b⋅y"
      ]
     },
     "execution_count": 20,
     "metadata": {},
     "output_type": "execute_result"
    }
   ],
   "source": [
    "sp.Eq(a*x, b*y)"
   ]
  },
  {
   "cell_type": "markdown",
   "metadata": {},
   "source": [
    "and we could actually assign that equation a name via"
   ]
  },
  {
   "cell_type": "code",
   "execution_count": 21,
   "metadata": {
    "collapsed": true
   },
   "outputs": [],
   "source": [
    "eq1 = sp.Eq(a*x, b*y)"
   ]
  },
  {
   "cell_type": "markdown",
   "metadata": {},
   "source": [
    "Suppose we would like to solve for `y` in terms of `x`.  With SymPy, we could do"
   ]
  },
  {
   "cell_type": "code",
   "execution_count": 22,
   "metadata": {},
   "outputs": [
    {
     "data": {
      "image/png": "[encoded data removed]",
      "text/latex": [
       "$$\\left [ \\frac{b y}{a}\\right ]$$"
      ],
      "text/plain": [
       "⎡b⋅y⎤\n",
       "⎢───⎥\n",
       "⎣ a ⎦"
      ]
     },
     "execution_count": 22,
     "metadata": {},
     "output_type": "execute_result"
    }
   ],
   "source": [
    "sp.solve(eq1, x)"
   ]
  },
  {
   "cell_type": "markdown",
   "metadata": {},
   "source": [
    "The result is what we expect, and it is returned as the single element of a list.\n",
    "\n",
    "If we forgot to specify the variable for which we want a solution, we find"
   ]
  },
  {
   "cell_type": "code",
   "execution_count": 23,
   "metadata": {},
   "outputs": [
    {
     "data": {
      "image/png": "[encoded data removed]",
      "text/latex": [
       "$$\\left [ \\left \\{ a : \\frac{b y}{x}\\right \\}\\right ]$$"
      ],
      "text/plain": [
       "⎡⎧   b⋅y⎫⎤\n",
       "⎢⎨a: ───⎬⎥\n",
       "⎣⎩    x ⎭⎦"
      ]
     },
     "execution_count": 23,
     "metadata": {},
     "output_type": "execute_result"
    }
   ],
   "source": [
    "sp.solve(eq1)"
   ]
  },
  {
   "cell_type": "markdown",
   "metadata": {},
   "source": [
    "Here, the solution is a list also with one element, and that element is a dictionary.  Apparently, `sp.solve` solved for $a$, but why? Consider the following:"
   ]
  },
  {
   "cell_type": "code",
   "execution_count": 24,
   "metadata": {},
   "outputs": [
    {
     "data": {
      "image/png": "[encoded data removed]",
      "text/latex": [
       "$$\\left [ \\left \\{ b : \\frac{c x}{y}\\right \\}\\right ]$$"
      ],
      "text/plain": [
       "⎡⎧   c⋅x⎫⎤\n",
       "⎢⎨b: ───⎬⎥\n",
       "⎣⎩    y ⎭⎦"
      ]
     },
     "execution_count": 24,
     "metadata": {},
     "output_type": "execute_result"
    }
   ],
   "source": [
    "sp.solve(sp.Eq(c*x, b*y))"
   ]
  },
  {
   "cell_type": "markdown",
   "metadata": {},
   "source": [
    "This suggests (but does not prove) that the solution is by default in alphabetical order, and if one does not specify the variables to solve.  Therefore, a good rule of thumb is always to specify which variable is to be found by `solve`. \n",
    "\n",
    "> **Note**: Always specify the names of variables to be solved.\n",
    "\n",
    "More information can be found on `sp.solve` by calling `help(sp.solve)`.  The output is quite long, but the signature of `sp.solve` is `sp.solve(f, *symbols, **flags)`.  Here, `f` must be (1) one equation (e.g., `sp.Eq(expr1, expr2)`), (2) one symbolic expression `expr` (treated implicitly as `sp.Eq(expr, 0)`, or (3) a sequence (e.g., `list`) of such equations or expressions.  \n",
    "\n",
    "Notice that `*symbols` and `**flags` have the special `*` and `**` characters discussed in [Lecture 13](ME400_Lecture_13.ipynb).  Convention usually puts `*` with `*args` and `**` with `**kwargs`.  However, the meaning is the same: `*symbols` is a sequence of position arguments that represent the symbols for which the equations are to be solved, while `**flags` are named arguments that (may) modify how `sp.solve` works."
   ]
  },
  {
   "cell_type": "markdown",
   "metadata": {},
   "source": [
    "Now, let us define the second equation:"
   ]
  },
  {
   "cell_type": "code",
   "execution_count": 25,
   "metadata": {
    "collapsed": true
   },
   "outputs": [],
   "source": [
    "d = sp.Symbol('d')\n",
    "eq2 = c*x - d*y + 1"
   ]
  },
  {
   "cell_type": "markdown",
   "metadata": {},
   "source": [
    "which, as you'll note, is just an expression.  When used in  solvers, an expression `expr` is equivalent to the\n",
    "equation `Eq(expr, 0)`.  We can solve the two equations simultaneously via"
   ]
  },
  {
   "cell_type": "code",
   "execution_count": 26,
   "metadata": {},
   "outputs": [
    {
     "data": {
      "image/png": "[encoded data removed]",
      "text/latex": [
       "$$\\left \\{ x : \\frac{b}{a d - b c}, \\quad y : \\frac{a}{a d - b c}\\right \\}$$"
      ],
      "text/plain": [
       "⎧       b             a    ⎫\n",
       "⎨x: ─────────, y: ─────────⎬\n",
       "⎩   a⋅d - b⋅c     a⋅d - b⋅c⎭"
      ]
     },
     "execution_count": 26,
     "metadata": {},
     "output_type": "execute_result"
    }
   ],
   "source": [
    "sp.solve([eq1, eq2], x, y)"
   ]
  },
  {
   "cell_type": "markdown",
   "metadata": {},
   "source": [
    "Go ahead and verify this by hand, and then take a look to the full SymPy tutorial (link below) to check out what sorts of equations (and sets of equations) SymPy can solve.\n",
    "\n",
    "> **Note**: As with *any* function one uses from SymPy or other modules, make sure that the return value is the expected result (in terms not just of *value* but also *type*."
   ]
  },
  {
   "cell_type": "markdown",
   "metadata": {},
   "source": [
    "In order to get comfortable with SymPy and solving symbolic equations, tackle the following:\n",
    "\n",
    "> **Exercise**: Solve $a x^2 + b x + c = 0$ for $x$, and name the solutions $x_0$ and $x_1$.\n",
    "\n",
    "> **Exercise**: Solve $e^{ax} = b$ for $x$, and name the solution $x_0$.  Substitute $b = 2$, and name the result $x_1$.\n",
    "\n",
    "> **Exercise**: Solve $x - y = 1$ and $2x + y = 1$ for $x$ and $y$.\n",
    "\n",
    "> **Exercise**: Given $3a + 4b + 7c + 11 = 0$, $5a + 3b + 3c + 4 = 0$, and $7a + 13b + 5c + 9=0$, find $a$, $b$, and $c$."
   ]
  },
  {
   "cell_type": "markdown",
   "metadata": {},
   "source": [
    "## Numerical Evaluation\n",
    "\n",
    "The solution of one equation or a system of equations, linear or nonlinear, is generally not the end of one's analysis.  Often, the ultimate goal is to produce a final, numerical answer, with all problem-specific parameters substituted into the final result.\n",
    "\n",
    "Consider the expression"
   ]
  },
  {
   "cell_type": "code",
   "execution_count": 27,
   "metadata": {},
   "outputs": [
    {
     "data": {
      "image/png": "[encoded data removed]",
      "text/latex": [
       "$$\\sin{\\left (x^{3} \\right )}$$"
      ],
      "text/plain": [
       "   ⎛ 3⎞\n",
       "sin⎝x ⎠"
      ]
     },
     "execution_count": 27,
     "metadata": {},
     "output_type": "execute_result"
    }
   ],
   "source": [
    "expr = sp.sin(x**3)\n",
    "expr"
   ]
  },
  {
   "cell_type": "markdown",
   "metadata": {},
   "source": [
    "Suppose we substitute $x = 3$, which can be done via"
   ]
  },
  {
   "cell_type": "code",
   "execution_count": 28,
   "metadata": {},
   "outputs": [
    {
     "data": {
      "image/png": "[encoded data removed]",
      "text/latex": [
       "$$\\sin{\\left (27 \\right )}$$"
      ],
      "text/plain": [
       "sin(27)"
      ]
     },
     "execution_count": 28,
     "metadata": {},
     "output_type": "execute_result"
    }
   ],
   "source": [
    "expr_sub = expr.subs({x: 3})\n",
    "expr_sub"
   ]
  },
  {
   "cell_type": "markdown",
   "metadata": {},
   "source": [
    "As clean as this is, it's not a *number*.  The trick is to use `evalf`:"
   ]
  },
  {
   "cell_type": "code",
   "execution_count": 29,
   "metadata": {},
   "outputs": [
    {
     "data": {
      "image/png": "[encoded data removed]",
      "text/latex": [
       "$$0.956375928404503$$"
      ],
      "text/plain": [
       "0.956375928404503"
      ]
     },
     "execution_count": 29,
     "metadata": {},
     "output_type": "execute_result"
    }
   ],
   "source": [
    "expr_sub.evalf()"
   ]
  },
  {
   "cell_type": "markdown",
   "metadata": {},
   "source": [
    "## Other Symbolic Tools"
   ]
  },
  {
   "cell_type": "markdown",
   "metadata": {},
   "source": [
    "Consider the following example:"
   ]
  },
  {
   "cell_type": "code",
   "execution_count": 30,
   "metadata": {
    "collapsed": true
   },
   "outputs": [],
   "source": [
    "t = sp.Symbol('t')"
   ]
  },
  {
   "cell_type": "code",
   "execution_count": 31,
   "metadata": {},
   "outputs": [
    {
     "data": {
      "image/png": "[encoded data removed]",
      "text/latex": [
       "$$\\frac{1}{\\tan{\\left (t \\right )}} \\left(\\left(\\sin{\\left (t \\right )} + \\tan{\\left (t \\right )}\\right)^{2} + \\cos^{2}{\\left (t \\right )} - \\sec^{2}{\\left (t \\right )}\\right)$$"
      ],
      "text/plain": [
       "                 2      2         2   \n",
       "(sin(t) + tan(t))  + cos (t) - sec (t)\n",
       "──────────────────────────────────────\n",
       "                tan(t)                "
      ]
     },
     "execution_count": 31,
     "metadata": {},
     "output_type": "execute_result"
    }
   ],
   "source": [
    "expr = ((sp.sin(t)+sp.tan(t))**2 + sp.cos(t)**2 - sp.sec(t)**2) / sp.tan(t)\n",
    "expr"
   ]
  },
  {
   "cell_type": "markdown",
   "metadata": {},
   "source": [
    "Nope. SymPy didn't simplify what looks to be a fairly formidable trigonometric expression.  But then again, we didn't tell it to  do so.  How's this?"
   ]
  },
  {
   "cell_type": "code",
   "execution_count": 32,
   "metadata": {},
   "outputs": [
    {
     "data": {
      "image/png": "[encoded data removed]",
      "text/latex": [
       "$$\\frac{1 - \\frac{\\cos{\\left (3 t \\right )}}{\\cos{\\left (t \\right )}}}{2 \\sin{\\left (t \\right )}}$$"
      ],
      "text/plain": [
       "    cos(3⋅t)\n",
       "1 - ────────\n",
       "     cos(t) \n",
       "────────────\n",
       "  2⋅sin(t)  "
      ]
     },
     "execution_count": 32,
     "metadata": {},
     "output_type": "execute_result"
    }
   ],
   "source": [
    "sp.simplify(expr)"
   ]
  },
  {
   "cell_type": "markdown",
   "metadata": {},
   "source": [
    "That's a bit cleaner.  Exactly what \"simplest\" means as SymPy does this magic is not really concrete.  In fact, SymPy does simplification via a sort of *heuristic* optimization (an area of active research).\n",
    "\n",
    "Another way to simplify (at least visually, perhaps) is to `collect` additive terms of some expression.  What does that mean?  Suppose we define"
   ]
  },
  {
   "cell_type": "code",
   "execution_count": 33,
   "metadata": {},
   "outputs": [
    {
     "data": {
      "image/png": "[encoded data removed]",
      "text/latex": [
       "$$\\left(a x + b y\\right)^{2} \\left(c x + d y\\right)$$"
      ],
      "text/plain": [
       "           2            \n",
       "(a⋅x + b⋅y) ⋅(c⋅x + d⋅y)"
      ]
     },
     "execution_count": 33,
     "metadata": {},
     "output_type": "execute_result"
    }
   ],
   "source": [
    "expr = (a*x+b*y)**2*(c*x+d*y)\n",
    "expr"
   ]
  },
  {
   "cell_type": "code",
   "execution_count": 34,
   "metadata": {},
   "outputs": [
    {
     "data": {
      "image/png": "[encoded data removed]",
      "text/latex": [
       "$$a^{2} c x^{3} + a^{2} d x^{2} y + 2 a b c x^{2} y + 2 a b d x y^{2} + b^{2} c x y^{2} + b^{2} d y^{3}$$"
      ],
      "text/plain": [
       " 2    3    2    2              2                2    2      2    2    3\n",
       "a ⋅c⋅x  + a ⋅d⋅x ⋅y + 2⋅a⋅b⋅c⋅x ⋅y + 2⋅a⋅b⋅d⋅x⋅y  + b ⋅c⋅x⋅y  + b ⋅d⋅y "
      ]
     },
     "execution_count": 34,
     "metadata": {},
     "output_type": "execute_result"
    }
   ],
   "source": [
    "sp.expand(expr)"
   ]
  },
  {
   "cell_type": "markdown",
   "metadata": {},
   "source": [
    "where `expand` does exactly what its name suggests: it expands the  product of sums to individual sums.  But gosh, that output is complicated. Suppose we want to group together all terms with like powers of $x$.  That's where `collect` comes in:"
   ]
  },
  {
   "cell_type": "code",
   "execution_count": 35,
   "metadata": {},
   "outputs": [
    {
     "data": {
      "image/png": "[encoded data removed]",
      "text/latex": [
       "$$a^{2} c x^{3} + b^{2} d y^{3} + x^{2} \\left(a^{2} d y + 2 a b c y\\right) + x \\left(2 a b d y^{2} + b^{2} c y^{2}\\right)$$"
      ],
      "text/plain": [
       " 2    3    2    3    2 ⎛ 2                ⎞     ⎛         2    2    2⎞\n",
       "a ⋅c⋅x  + b ⋅d⋅y  + x ⋅⎝a ⋅d⋅y + 2⋅a⋅b⋅c⋅y⎠ + x⋅⎝2⋅a⋅b⋅d⋅y  + b ⋅c⋅y ⎠"
      ]
     },
     "execution_count": 35,
     "metadata": {},
     "output_type": "execute_result"
    }
   ],
   "source": [
    "sp.collect(sp.expand(expr), x)"
   ]
  },
  {
   "cell_type": "markdown",
   "metadata": {},
   "source": [
    "With `simplify`, `expand`, and `collect`, one has substantial flexibility in manipulating expressions into forms more easily understood or used."
   ]
  },
  {
   "cell_type": "markdown",
   "metadata": {},
   "source": [
    "Finally, it is often the case that we want to visuallize our symbolic results graphically.  How to plot something like $\\sin(x)$?  Of course, NumPy has arrays and its own `np.sin(x)` functions, but that will not work if `x` is a symbol.  Fortunately, SymPy has the function `lambdify`, which will turn any symbolic expression into a `lambda` function suitable for numerical evaluations (array-based or otherwise) and, hence, plotting.\n",
    "\n",
    "For example, convert the expression `f = x**2` into a function:"
   ]
  },
  {
   "cell_type": "code",
   "execution_count": 36,
   "metadata": {},
   "outputs": [
    {
     "data": {
      "image/png": "[encoded data removed]",
      "text/latex": [
       "$$4.0$$"
      ],
      "text/plain": [
       "4.0"
      ]
     },
     "execution_count": 36,
     "metadata": {},
     "output_type": "execute_result"
    }
   ],
   "source": [
    "f = x**2\n",
    "f_fun = sp.lambdify(x, f)\n",
    "f_fun(2.0)"
   ]
  },
  {
   "cell_type": "markdown",
   "metadata": {},
   "source": [
    "Note something important: the original expression was named `f`.  To keep names straight, I recommend naming any *lambdified* expression `f` in the form `f_fun` to indicate its use as a function.\n",
    "\n",
    "The result works by default for `ndarrays`:"
   ]
  },
  {
   "cell_type": "code",
   "execution_count": 37,
   "metadata": {},
   "outputs": [
    {
     "data": {
      "text/plain": [
       "array([1, 4, 9])"
      ]
     },
     "execution_count": 37,
     "metadata": {},
     "output_type": "execute_result"
    }
   ],
   "source": [
    "import numpy as np\n",
    "f_fun(np.array([1,2,3]))"
   ]
  },
  {
   "cell_type": "markdown",
   "metadata": {},
   "source": [
    "Use of `lambdify` is highly recommended for producing plots of symbolic expressions.  For example, the expressions `f = x**2` and `g = x**3` can be plotted as follows (pay close attention to the naming convention and the cool `latex` trick):"
   ]
  },
  {
   "cell_type": "code",
   "execution_count": 38,
   "metadata": {},
   "outputs": [
    {
     "data": {
      "image/png": "[encoded data removed]",
      "text/plain": [
       "<matplotlib.figure.Figure at 0x7efca0403b70>"
      ]
     },
     "metadata": {},
     "output_type": "display_data"
    }
   ],
   "source": [
    "import matplotlib.pyplot as plt\n",
    "# x is a symbol, but we'll need actual value to \n",
    "# plot.  Here, x_plot indicates its purpose as the \n",
    "# values of x to be used for plotting.\n",
    "x_plot = np.linspace(0, 2)\n",
    "f_plot = f_fun(x_plot) # x**2\n",
    "g = x**3\n",
    "g_fun = sp.lambdify(x, g)\n",
    "g_plot = g_fun(x_plot)\n",
    "plt.plot(x_plot, f_plot, 'k-', label='${}$'.format(sp.latex(f)))\n",
    "plt.plot(x_plot,  g_plot, 'b--', label='${}$'.format(sp.latex(g)))\n",
    "plt.xlabel('x')\n",
    "plt.legend()\n",
    "plt.show()"
   ]
  },
  {
   "cell_type": "markdown",
   "metadata": {},
   "source": [
    "For those curious, here's what that `latex` function does:"
   ]
  },
  {
   "cell_type": "code",
   "execution_count": 39,
   "metadata": {},
   "outputs": [
    {
     "data": {
      "text/plain": [
       "'x^{2}'"
      ]
     },
     "execution_count": 39,
     "metadata": {},
     "output_type": "execute_result"
    }
   ],
   "source": [
    "sp.latex(f)"
   ]
  },
  {
   "cell_type": "markdown",
   "metadata": {},
   "source": [
    "## Further Reading\n",
    "\n",
    "Much of what has been covered here is drawn from the [SymPy tutorial](http://docs.sympy.org/latest/tutorial/index.html).  That's a great resource (as is the rest of the [SymPy documentation](http://docs.sympy.org/latest/index.html).  Because SymPy is a relatively young module, you can expect it to be updated rather frequently."
   ]
  }
 ],
 "metadata": {
  "kernelspec": {
   "display_name": "Python 3",
   "language": "python",
   "name": "python3"
  },
  "language_info": {
   "codemirror_mode": {
    "name": "ipython",
    "version": 3
   },
   "file_extension": ".py",
   "mimetype": "text/x-python",
   "name": "python",
   "nbconvert_exporter": "python",
   "pygments_lexer": "ipython3",
   "version": "3.6.2"
  }
 },
 "nbformat": 4,
 "nbformat_minor": 2
}
