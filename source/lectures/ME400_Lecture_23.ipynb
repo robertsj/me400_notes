{
 "cells": [
  {
   "cell_type": "markdown",
   "metadata": {},
   "source": [
    "# Lecture 23 - Root Finding and Optimization \n",
    "\n",
    "## Overview, Objectives, and Key Terms\n",
    " \n",
    "In [Lecture 19](ME400_Lecture_19.ipynb), SymPy was applied to perform symbolic differentuation, and in [Lecture 21]( ME400_Lecture_21.ipynb), finite-difference approximations were developed to perform numerical differentiation.  We'll need both techniques as we begin to solve **nonlinear equations** and **optimization problems**.  Both subjects are rich, so we'll touch on only the basics, but you'll have tools at your disposal to tackle such problems in varied applications.\n",
    " \n",
    "### Objectives\n",
    "\n",
    "By the end of this lesson, you should be able to\n",
    "\n",
    "- Find one or more roots of a one-dimensional, nonlinear equation $f(x) = 0$ using the bisection and Newton methods.\n",
    "- Find local extrema of a function $f(x)$ using the bisection and Newton methods.\n",
    "- Establish the order of an integration scheme using numerical, graphical, or symbolic means.\n",
    "\n",
    "### Key Terms\n",
    "\n",
    "- nonlinear equation\n",
    "- transcendental equation\n",
    "- graphical solution\n",
    "- bisection method\n",
    "- Newton's method\n",
    "- quadratic convergence\n",
    "- second-order convergence\n",
    "- order of convergence\n",
    "- secant method\n",
    "- Steffensen's method\n",
    "- nonlinear systems\n",
    "- Jacobian matrix\n",
    "- `scipy.optimize.fsolve`\n",
    "- optimization\n",
    "- extremum\n",
    "- critical point\n",
    "- objective function\n",
    "- `scipy.optimize.minimize`"
   ]
  },
  {
   "cell_type": "markdown",
   "metadata": {},
   "source": [
    "## Nonlinear Equations\n",
    "\n",
    "Linear equations are characterized by *linear combinations* or the unknowns.  For example, the system of equations for $x$ and $y$\n",
    "\n",
    "$$\n",
    "\\begin{split}\n",
    " ax + by &= 1 \\\\\n",
    " cx + dy &= 2 \n",
    "\\end{split}\n",
    "$$\n",
    "\n",
    "is linear because $x$ and $y$ appear with only constant coefficients.  There are no $x^2$ terms, or $\\sin(y)$ terms.  Just multiples of $x$ and $y$.  Any deviation from this pattern results in **nonlinear equations**.  For example, quadratic equation $ax^2 + bx + c = 0$ is nonlinear, and we know how to find the **roots** of this equations.  A root is the solution $x$ to any equation (generally, nonlinear) $f(x) = 0$.  Our goal now is to solve such equations using the tools at our disposal."
   ]
  },
  {
   "cell_type": "markdown",
   "metadata": {},
   "source": [
    "### Analytic Solutions\n",
    "\n",
    "In rare cases, nonlinear equations have closed-form solutions (i.e., you can write it down explicitly).  The quadratic equation is one example.  In fact, solutions exist for the general cubic (add a $x^3$ term) and quartic (add both $x^3$ and $x^4$).  The roots are hideous (compared to the quadratic equation roots), but they are known.  \n",
    "\n",
    "***\n",
    "\n",
    "**Exercise**: Use SymPy to find the roots of the cubic equation $ax^3 + bx^2 + cx + d = 0$.  Can it also find roots to *quintic* equation $ax^5 + bx^4 + cx^3 + dx^2 + ex + f = 0$?\n",
    "\n",
    "*Solution*:  The cubic is easy, but SymPy can't do the quintic.  In fact, the roots to general polynomials of degree 5 and higher cannot be determined explicity, a fact [proven by Abel](https://en.wikipedia.org/wiki/Abel%E2%80%93Ruffini_theorem).\n",
    "\n",
    "***\n",
    "\n",
    "For other problems, we often have to have a bit of luck.\n",
    "\n",
    "***\n",
    "**Exercise**:  Find all values of $x$ such that $\\sin(ax) - b = 0$.\n",
    "\n",
    "*Solution*: The equation has no solution if $|b| > 1$ (because $-1 \\leq  \\sin(ax) \\leq 1$).  If $|b| \\leq 1$, then $x = \\frac{\\sin^{-1}b}{a} + n\\pi$ for $n = 0, \\pm 1, \\pm 2, \\ldots$.  Such an equation is called **transcendental** because it involves a transcendental function (i.e., $\\sin(x)$).  Transcendental functions cannot be defined in terms of polynomial of finite degree; in other words, if one needs an infinitely long [Taylor series](ME400_Lecture_20.ipynb) to represent the function, it is transcendental.  Transcendental equations almost always require some form of numerical evaluation.\n",
    "\n",
    "**Exercise**: Solve the nonlinear system of equations $y - x = 4$ and $x^2 + y = 3$.\n",
    "\n",
    "***"
   ]
  },
  {
   "cell_type": "markdown",
   "metadata": {},
   "source": [
    "### Graphical Solutions\n",
    "\n",
    "When analytic methods fail, solutions  (albeit, approximate)  to nonlinear equations may be found **graphically**.  For single equation in $x$, it suffices to plot $f(x)$ over the range of interest and identify the roots.\n",
    "\n",
    "***\n",
    "\n",
    "**Exercise**:  Revisit $\\sin(ax) - b$ for $a=1$ and $b=1/4$ and find all roots between $x = -5$ and $x = 5$.\n",
    "\n",
    "*Solution*:\n"
   ]
  },
  {
   "cell_type": "code",
   "execution_count": 1,
   "metadata": {},
   "outputs": [
    {
     "data": {
      "image/png": "[encoded data removed]",
      "text/plain": [
       "<matplotlib.figure.Figure at 0x7fc34478e8d0>"
      ]
     },
     "metadata": {},
     "output_type": "display_data"
    }
   ],
   "source": [
    "import matplotlib.pyplot as plt\n",
    "import numpy as np\n",
    "x = np.linspace(-5, 5, 100)\n",
    "ax = plt.figure(1, (8,3)).gca()\n",
    "plt.plot(x,  np.sin(x)-0.25, x, 0*x,'r--')\n",
    "plt.xlabel('x')\n",
    "plt.ylabel('f(x)')\n",
    "ax.set_xticks(np.arange(-5, 6, 1))\n",
    "plt.grid(True)\n",
    "plt.show()"
   ]
  },
  {
   "cell_type": "markdown",
   "metadata": {},
   "source": [
    "Because `plt.plot` does not by default draw a line for $y=0$, a dashed, red line is superimposed to provide more obvious intersections between the function $f(x)$ and the horizontal axis $y = 0$.  It appears (from inspections) that the roots of interest are near -3.5, 0.3, and 2.8.  One could certainly zoom in somewhat to improve the precision of the estimates, but arbitrary precision will require other techniques.\n",
    "\n",
    "***\n",
    "\n",
    "**Exercise**:  A simple, somewhat realistic model of a spherical nuclear reactor consists of two  regions: (1) an inner spherical volume of *fuel* of radius $R$, in which neutrons induce fission, leading to energy release and additional neutrons, and (2) an outer, infinitely large *reflector* surrounding the fuel, which minimizes the number of neutrons that escape the fuel.  The reactor is *critical* if the number of neutrons produced and lost is constant over time.  For this simple, two region model, the condition for criticality is\n",
    "\n",
    "$$\n",
    "  BR \\cot(BR) = 1 - \\frac{D_r}{D_f} \\left ( \\frac{R}{L_r} + 1 \\right ) \\, ,\n",
    "$$\n",
    "\n",
    "where $D_f$, $D_r$, and $L_r$ are fixed, material properties of the fuel and reflector.  Hence, in order for this criticality condition to be satisfied, an appropriate value of $B$ must be determined.  Here, $B$ is called the *buckling* and is a function of several fuel material properties.  For $R=20$, $D_f = 0.9$, $D_r = 1.1$, and $L_r =  1.7$, estimate the first positive value of $B$ that satisfies the condition.\n",
    "\n",
    "***\n",
    "\n",
    "**Exercise**: The solution of transient heat-conduction problems often involves a technique called *separation of variables*.  Application of this technique to an infinite slab of thickness $2L$ subject to certain initial and boundary conditions leads to the transcendental equation\n",
    "\n",
    "$$\n",
    "  \\cot \\lambda L = \\frac{\\lambda L}{hL/k} = \\frac{\\lambda L}{\\text{Bi}} \\, ,\n",
    "$$\n",
    "\n",
    "where $\\lambda$ is a dimensionless, undetermined parameter, $h$ is the heat transfer coefficient, $k$ is the thermal conductivity, and $\\text{Bi}$ is the *Biot number*.  The Biot number quantifies how hard it is for heat to flow *within* a body relative to how hard it is to flow *through the outer surface* of the body.  Only for certain values of $\\lambda$ can the equation be solved. Determine these values graphically by plotting the left-hand and right-hand sides of the equation as functions of $\\lambda L$.\n",
    "\n",
    "***"
   ]
  },
  {
   "cell_type": "markdown",
   "metadata": {},
   "source": [
    "## Determining Roots Numerically\n",
    "\n",
    "The numerical solution of $f(x) = 0$ can be challenging since it requires we know at least a little about the desired solution, particularly the range in which the root is contained. We'll explore three basic schemes for solving $f(x)$: the [bisection method](http://mathworld.wolfram.com/Bisection.html), [Newton's method](http://mathworld.wolfram.com/NewtonsMethod.html), and the secant method.\n",
    "\n",
    "### Bisection\n",
    "\n",
    "Application of bisection to finding a root of $f(x)$ requires a key piece of information: a range $x \\in [L, R]$ in which a *single* root lives.  The algorithm is actually quite similar to [binary search](ME400_Lecture_14).   A central point $C$ is selected, and the function is evaluated at that point.  Then, if $f(C)$ has the same *sign* (i.e., $+$ or $-$) as $f(A)$, we know that the root must be between $C$ and $B$.  Why?  If there is only one root $x^*$ between $L$ and $R$, then $f(x)$ must have a constant sign for $x \\in [A, x^*)$  and the opposite sign for $x \\in (x^*, B]$.  If, instead, $f(x)$ changes signs between $x=A$ and $x=x^*$ then it *must* cross the $x$ axis, at which point there *must* be a second root.  \n",
    "\n",
    "***\n",
    "**Exercise**: Write a `lambda` function for $x$ that returns `True` if $x \\geq 0$ and `False` otherwise.\n",
    "***\n"
   ]
  },
  {
   "cell_type": "markdown",
   "metadata": {},
   "source": [
    "An important difference between bisection and binary search is that now the search can require an unlimited number of comparisons because the search range $[A, B]$ is split in half repeatedly until a root is *converged* to within a desired tolerance $\\tau$.  In other words, roots will very rarely be found *exactly*; rather, we often must accept *approximate* values, as was first introduced in [Lecture 8](ME400_Lecture_8). \n",
    "\n",
    "In pseudocode, the bisection method can be written as follows (where the notation from binary search is adopted as closely as is reasonable):"
   ]
  },
  {
   "cell_type": "markdown",
   "metadata": {},
   "source": [
    "```\n",
    "'''Bisection method for finding an isolated root of f between a and b'''\n",
    "Input: f, a, b, tau\n",
    "\n",
    "# Define the left and right boundaries\n",
    "Set L = a\n",
    "Set R = b\n",
    "\n",
    "# Define the central point\n",
    "Set C = (a+b)/2\n",
    "\n",
    "# Go until f(C) is close enough to zero (i.e., that\n",
    "# C is close enough to the root between a and b\n",
    "While |f(C)| > tau \n",
    "    If sign(f(C)) == sign(f(L)) then\n",
    "        # the root must be between C and L\n",
    "        L = C\n",
    "    Otherwise\n",
    "        # the root must be between L and C\n",
    "        R = C\n",
    "    C = (L+R)/2\n",
    "Output: C\n",
    "```"
   ]
  },
  {
   "cell_type": "markdown",
   "metadata": {},
   "source": [
    "Application of this algorithm to find the first positive root of $\\sin(x) - 2/5$ is shown graphically below for the first two iterations.  At each step, the search space is reduced by half, illustrated by the shrinking highlighted rectangles.  By the second iteration, $C = 0.375$, which is visually quite close to the root of interest $x = \\sin^{-1}(2/5) \\approx 0.4115$."
   ]
  },
  {
   "cell_type": "code",
   "execution_count": 2,
   "metadata": {},
   "outputs": [
    {
     "data": {
      "image/png": "[encoded data removed]",
      "text/plain": [
       "<matplotlib.figure.Figure at 0x7fc3447719b0>"
      ]
     },
     "metadata": {},
     "output_type": "display_data"
    }
   ],
   "source": [
    "import nonlinear_plots\n",
    "nonlinear_plots.bisection_root()"
   ]
  },
  {
   "cell_type": "markdown",
   "metadata": {},
   "source": [
    "***\n",
    "\n",
    "**Exercise**: Apply the bisection algorithm *by hand* to solve $f(x) = x^3 + 2x^2 - 5x - 6 = 0$ for $x\\in [1, 4]$.  Find the root to within $\\tau = 10^{-1}$.  Write out all values of $L$, $R$, $C$, and $f(C)$ for each step.\n",
    "\n",
    "***\n",
    "\n",
    "**Exercise**: Implement the bisection algorithm in Python  and use it to solve $\\sin(x) - 2/5$ for $x \\in [0, 1]$.\n",
    "\n",
    "***\n",
    "\n",
    "**Exercise**: Modify the bisection algorithm to accept a desired number of iterations $n$ instead of the tolerance $\\tau$.  Implement this modified algorithm in Python.  Then, show the error in the approximate root of $f(x) = \\sin(x) - 2/5$ for $x\\in [0, 1]$ as a function of $n$.\n",
    "\n",
    "***"
   ]
  },
  {
   "cell_type": "markdown",
   "metadata": {},
   "source": [
    "### Newton's Method\n",
    "\n",
    "A more power way to find roots of $f(x) = 0$ is [Newton's method](http://mathworld.wolfram.com/NewtonsMethod.html), sometimes called the Newton-Raphson method.  Like bisection,  Newton's method produces a sequence of approximations for a root.  The values of the sequence are increasingly close to the root.  Unlike bisection, Newton's method requires not a range in which a single root lives but an initial guess for what the root is.  \n",
    "\n",
    "Let the root of interest be $x_r$.  Assume we have a good way to guess the root (intuition, a graph, etc.), and call that initial approximation $x_0$.  Then, for some $\\Delta$, $x_r = x_0 + \\Delta$,Taylor series provides the following relationship:"
   ]
  },
  {
   "cell_type": "code",
   "execution_count": 3,
   "metadata": {},
   "outputs": [
    {
     "data": {
      "image/png": "[encoded data removed]",
      "text/latex": [
       "$$f{\\left (x_{0} \\right )} + \\Delta \\left. \\frac{d}{d \\xi_{1}} f{\\left (\\xi_{1} \\right )} \\right|_{\\substack{ \\xi_{1}=x_{0} }} + \\mathcal{O}\\left(\\Delta^{2}\\right) = 0$$"
      ],
      "text/plain": [
       "          ⎛ d        ⎞│         ⎛ 2⎞    \n",
       "f(x₀) + Δ⋅⎜───(f(ξ₁))⎟│      + O⎝Δ ⎠ = 0\n",
       "          ⎝dξ₁       ⎠│ξ₁=x₀            "
      ]
     },
     "execution_count": 3,
     "metadata": {},
     "output_type": "execute_result"
    }
   ],
   "source": [
    "import sympy as sy\n",
    "sy.init_printing()\n",
    "f, x_0, Delta = sy.symbols('f x_0 Delta')\n",
    "x_r = x_0 + Delta\n",
    "sy.Eq(sy.series(f(x_r), Delta, 0, 2), 0)"
   ]
  },
  {
   "cell_type": "markdown",
   "metadata": {},
   "source": [
    "Formally, this equation is still exact because $\\mathcal{O}(\\Delta^2)$ captures *all* terms proportional to $\\Delta^2$ and higher powers of $\\Delta$.  However, if $\\Delta$ were small enough that the $\\Delta^2$ terms can be ignored (i.e., our guess $x_0$ were close enough to $x_r$), then we're left with the *approximate* relationship\n",
    "\n",
    "$$\n",
    "  f(x_r) = 0 \\approx f(x_0) + \\Delta f'(x_0) \\, ,\n",
    "$$\n",
    "\n",
    "from which it follows that\n",
    "\n",
    "$$\n",
    " \\Delta =  -\\frac{f(x_0)}{f'(x_0)} \\, .\n",
    "$$\n",
    "\n",
    "We expect $x_1 = x_1 + \\Delta$ to be a *better* approximation than $x_0$.  Moreover, the same process can be applied to determine a sequence of estimated roots $x_2$, $x_3$, and so on.  This process is Newton's method, and is presented in the following pseudocode:"
   ]
  },
  {
   "cell_type": "markdown",
   "metadata": {},
   "source": [
    "```\n",
    "'''Newton's method for finding the root f given x_0'''\n",
    "Input: f, fp, x_0, tau\n",
    "Set x = x_0\n",
    "While |abs(x)| > tau do\n",
    "   # Compute the Newton \"step\" \n",
    "   Set Delta = -f(x)/fp(x_0)\n",
    "   # Compute the next value of x\n",
    "   Set x = x + Delta\n",
    "Output: x\n",
    "```"
   ]
  },
  {
   "cell_type": "markdown",
   "metadata": {},
   "source": [
    "***\n",
    "\n",
    "**Exercise**: Apply Newton's method *manually* to solve $f(x) = x^3 + 2x^2 - 5x - 6 = 0$ to within $\\tau = 10^{-5}$. Use $x_0 = 3/2$. Write out $n$, $x_n$, $f(x_n)$, $f'(x_n)$ at each step $n = 0, 1, \\ldots$.\n",
    "\n",
    "*Solution*:\n",
    "\n",
    "```\n",
    "n x                       f(x)       f'(x)\n",
    "0 1.5000000000000000e+00 -5.625e+00  7.750e+00\n",
    "1 2.2258064516129030e+00  3.807e+00  1.877e+01\n",
    "2 2.0229637924064581e+00  3.487e-01  1.537e+01\n",
    "3 2.0002760690096917e+00  4.142e-03  1.500e+01\n",
    "4 2.0000000406383567e+00  6.096e-07  1.500e+01\n",
    "5 2.0000000000000009e+00  1.421e-14  1.500e+01\n",
    "```\n",
    "***"
   ]
  },
  {
   "cell_type": "markdown",
   "metadata": {},
   "source": [
    "The exercise above illustrates an important feature of Newton's method. Once Newton's method \"get's going,\" the number of correct digits usually *doubles* at each step.  For example, step 3 got 3 digits right, while step 4 got 7, and step 5 got 15.  That's pretty quick convergence.  \n",
    "\n",
    "Such convergence is called **quadratic convergence** or **second-order convergence**.  In other words, if the error is $\\epsilon_n$ at step $n$, the error at step $n+1$ will be $\\epsilon_{n+1} = a \\epsilon_n^2$ for some constant $a$.  More generally, the **order of convergence** of a method is the value of $p$ for which $\\epsilon_{n+1} = c\\epsilon_{n}^p$ for some constant $c$."
   ]
  },
  {
   "cell_type": "markdown",
   "metadata": {},
   "source": [
    "***\n",
    "\n",
    "**Exercise**:  Use the last three values of $x$ in the last exercise to estimate the order of convergence of Newton's method.\n",
    "\n",
    "*Solution*:  Using logarithms, we have $\\log \\epsilon_4 = p \\log \\epsilon_3 + \\log c$ and $\\log \\epsilon_5 = p \\log \\epsilon_4 + \\log c$.  Those are two equations for the two unknowns $p$ and $\\log c$.  Now, recalling what we learned in [Lecture 4](ME400_Lecture_4.ipynb), this system is easy to solve:"
   ]
  },
  {
   "cell_type": "code",
   "execution_count": 4,
   "metadata": {},
   "outputs": [
    {
     "data": {
      "image/png": "[encoded data removed]",
      "text/latex": [
       "$$1.99902739068$$"
      ],
      "text/plain": [
       "1.99902739068"
      ]
     },
     "execution_count": 4,
     "metadata": {},
     "output_type": "execute_result"
    }
   ],
   "source": [
    "e_3 = 2.0002760690096917e+00-2\n",
    "e_4 = 2.0000000406383567e+00-2\n",
    "e_5 = 2.0000000000000009e+00-2\n",
    "import numpy as np\n",
    "A = np.array([[np.log(e_3), 1], [np.log(e_4), 1]])\n",
    "b = np.array([np.log(e_4), np.log(e_5)])\n",
    "p = np.linalg.solve(A, b)[0]\n",
    "p"
   ]
  },
  {
   "cell_type": "markdown",
   "metadata": {},
   "source": [
    "That's pretty darn close to 2, and Newton's method is therefore confirmed to exhibit second-order convergence (for this problem).\n",
    "\n",
    "***\n"
   ]
  },
  {
   "cell_type": "markdown",
   "metadata": {},
   "source": [
    "Knowledge of a method's order of convergence is useful when verifying its implementation.  If we saw less than second-order convergence for the exercise above, then the implementation might be suspect.\n",
    "\n",
    "### Secant Method\n",
    "\n",
    "If we don't know the derivative of $f(x)$, then Newton's method can't be used.  Of course, the bisection method is one option, but we can adapt Newton by leveraging the finite-difference methods from [Lecture 21](ME400_Lecture_21.ipynb).  The result is the **secant method**.  The algorithm is nearly identical to Newton's method, but $f'(x)$ is approximated when needed:\n",
    "\n",
    "```\n",
    "'''Secant method for finding the root f given x_0'''\n",
    "Input: f, x_0, tau\n",
    "Set x = x_0\n",
    "Set Delta = 1e-8\n",
    "While |abs(x)| > tau do\n",
    "   # Compute the Newton \"step\"\n",
    "   Set fp = (f(x+Delta)-f(x))/Delta\n",
    "   Set s = -f(x)/fp\n",
    "   # Compute the next value of x\n",
    "   Set x = x + s\n",
    "Output: x\n",
    "```\n",
    "\n",
    "***\n",
    "\n",
    "**Exercise**: Apply the secant method *manually* to solve $f(x) = x^3 + 2x^2 - 5x - 6 = 0$ to within $\\tau = 10^{-5}$. Use $x_0 = 3/2$. Write out $n$, $x_n$, $f(x_n)$, $f'(x_n)$ at each step $n = 0, 1, \\ldots$.  How does it compare to Newton's method?\n",
    "\n",
    "***\n",
    "\n",
    "**Exercise**: Implement the secant method as a Python function.\n",
    "\n",
    "***\n",
    "\n",
    "**Exercise**: Implement a function `newton(f, x_0, fp=None, tau=1e-8, delta=1e-8)` that applies Newton's method when `fp` is provided and the secant method if `fp` is not provided.  Here, `delta` is to be the step used in the finite-difference approximation to $f'(x)$.\n",
    "\n",
    "***\n",
    "\n",
    "**Exercise**:  Use the secant method *without* defining $f'(x)$ to solve the following equations:\n",
    "  1. $\\tan(x)/x^2$ for $x_0 = 1$.\n",
    "  2. $s^2 = 3$ for $s_0=1.5$. (What is this doing?)\n",
    "  3. $2\\cosh(x/4)-x = 0$ with $x_0 = 4$.\n",
    "\n",
    "***\n",
    "\n",
    "**Exercise**:  Another method that can be used when the derivative is not available is [Steffensen's method](https://en.wikipedia.org/wiki/Steffensen%27s_method).  Steffensen's method produces a sequence of approximate roots according to $x_{n+1} = \\frac{f(x_n + f(x_n)) - f(x_n)}{f(x_n)}$.  Try this method on nonlinear equations from the last exercise.  Does it converge quadratically like Newton's method?\n",
    "\n",
    "***\n"
   ]
  },
  {
   "cell_type": "markdown",
   "metadata": {},
   "source": [
    "## Solving Systems of Nonlinear Equations Numerically\n",
    "\n",
    "The solution of nonlinear systems is considerably more challenging than single-variable equations.  However, the Newton (and secant) methods described so far are up to the challenge.  A system of nonlinear equations can be written generically as $\\mathbf{f}(\\mathbf{x}) = \\mathbf{0}$, where the bolded names indicate vector quantities.  Whereas Newton's method for single-variables equations requires the derivative $f'(x)$, Newton's method for systems of equations requires the **jacobian matrix**.  For a system of $n$ unknows, the jacobian $\\mathbf{J}$ is a square matrix defined as\n",
    "\n",
    "$$\n",
    "  \\mathbf{J}(\\mathbf{x}) = \\begin{bmatrix}\n",
    "    \\frac{\\partial f_0}{\\partial x_0} & \\frac{\\partial f_1}{\\partial x_0} & \\ldots & \\frac{\\partial f_{n-1}}{\\partial x_0} \\\\\n",
    "    \\frac{\\partial f_0}{\\partial x_1} & \\frac{\\partial f_1}{\\partial x_1} & \\ldots & \\frac{\\partial f_{n-1}}{\\partial x_1} \\\\\n",
    "         &     &  \\ddots &  \\\\\n",
    "    \\frac{\\partial f_0}{\\partial x_{n-1}} & \\frac{\\partial f_1}{\\partial x_{n-1}} & \\ldots & \\frac{\\partial f_{n-1}}{\\partial x_{n-1}} \n",
    "\\end{bmatrix}\n",
    "$$\n",
    "\n",
    "where $x_i$ indicates the $i$th unknown (or element $i$ of $\\mathbf{x}$).\n",
    "\n",
    "Then, Newton's method leads to the sequence\n",
    "\n",
    "$$ \n",
    "  \\mathbf{x}_{n+1} = \\mathbf{x}_{n} - \\mathbf{J}^{-1}(\\mathbf{x}_n) \\mathbf{f}(\\mathbf{x}_n) \\, .\n",
    "$$\n",
    "\n",
    "Here, $\\mathbf{f}(\\mathbf{x}_n)$ and $\\mathbf{J}(\\mathbf{x}_n)$ indicate the function and its jacobian are evalaluated at $\\mathbf{x}_n$. "
   ]
  },
  {
   "cell_type": "markdown",
   "metadata": {},
   "source": [
    "***\n",
    "\n",
    "**Exercise**:  Consider the nonlinear system of equations $x-y = 4$ and $x^2 + y = -3$.  Derive the jacobian matrix, and apply one step of Newton's method using $x_0=1/2$ and $y_0=-3$.  (*Hint*: Check your work by defining `f = sy.Matrix([x-y-4,  x**2+y+3])` and `J = f.jacobian([x, y])`.  Feel free to dig in a bit and see how matrix-vector multiplication works in SymPy.)\n",
    "\n",
    "***\n",
    "\n",
    "**Exercise**:  What's the Jacobian matrix for the *linear* system $ax+by = 1$ and $cx+dy=2$?  How many Newton iterations are required to solve the system for *any* initial values $x_0$ and $y_0$?  \n",
    "\n",
    "***"
   ]
  },
  {
   "cell_type": "markdown",
   "metadata": {},
   "source": [
    "### `scipy.optimize.fsolve`\n",
    "\n",
    "Although implementation of a Newton (or secant) method for systems would be possible using NumPy, it is more practical to use the tools included in SciPy.  In particular, the `scipy.optimize.fsolve` function implements a method that combines Newton's method with some other techniques applied when Newton's method cannot reliably converge (e.g., what happens when $f'(x)$ vanishes near the root of interest?).  \n",
    "\n",
    "The signature (from `help(fsolve)`) is\n",
    "```python\n",
    "fsolve(func, x0, args=(), fprime=None, full_output=0, col_deriv=0, xtol=1.49012e-08, maxfev=0, band=None, epsfcn=None, factor=100, diag=None)\n",
    "```\n",
    "The arguments of interest here are `func`, `x0`, `args`, and `fprime`; refer to the documentation for more on the the other arguments.  From `help(fsolve)`:\n",
    "```\n",
    "func : callable ``f(x, *args)``\n",
    "    A function that takes at least one (possibly vector) argument.\n",
    "x0 : ndarray\n",
    "    The starting estimate for the roots of ``func(x) = 0``.\n",
    "args : tuple, optional\n",
    "    Any extra arguments to `func`.\n",
    "fprime : callable(x), optional\n",
    "    A function to compute the Jacobian of `func` with derivatives\n",
    "```\n",
    "Hence, `func` represents our nonlinear system function $\\mathbf{f}(\\mathbf{x})$, and `args` represents any values needed to define what $\\mathbf{f}(\\mathbf{x})$ does.  The initial guess is `x0`.  If available, `fprime` should compute $\\mathbf{J}(\\mathbf{x})$; if not provided, `fsolve` approximates the Jacobian using a forward-difference approximation."
   ]
  },
  {
   "cell_type": "markdown",
   "metadata": {},
   "source": [
    "***\n",
    "\n",
    "**Exercise**: Solve the nonlinear system of equations $x-y = 4$ and $x^2 + y = -3$ using `fsolve`  $x_0=1/2$ and $y_0=-3$.\n",
    "\n",
    "*Solution*:"
   ]
  },
  {
   "cell_type": "code",
   "execution_count": 5,
   "metadata": {},
   "outputs": [
    {
     "data": {
      "image/png": "[encoded data removed]",
      "text/latex": [
       "$$\\left ( 0.61803398875, \\quad -3.38196601125\\right )$$"
      ],
      "text/plain": [
       "(0.61803398875, -3.38196601125)"
      ]
     },
     "execution_count": 5,
     "metadata": {},
     "output_type": "execute_result"
    }
   ],
   "source": [
    "from scipy.optimize import fsolve\n",
    "\n",
    "def f(z):\n",
    "    x, y = z # unpack z\n",
    "    return [x-y-4, x**2+y+3]\n",
    "\n",
    "z0 = [1/2, -3]\n",
    "x, y = fsolve(f, z0)\n",
    "x, y"
   ]
  },
  {
   "cell_type": "markdown",
   "metadata": {},
   "source": [
    "***"
   ]
  },
  {
   "cell_type": "markdown",
   "metadata": {},
   "source": [
    "## Finding Extrema\n",
    "\n",
    "One of the great applications of differentiation is its ability\n",
    "to identify the *critical points* of a function $f(x)$, which\n",
    "include its minima and maxima.  If \n",
    "$f(x)$ represents some quantity of interest, perhaps the cost \n",
    "of materials for some component or the signal-to-noise ratio of\n",
    "some sensor.  If we want to mininimize those costs or maximize those\n",
    "ratios, we need to use *optimization*.  Although optimization problems\n",
    "and the techniques to solve them are quite diverse, we will stick to\n",
    "1-D problems in which the *objective function* to be minimized or \n",
    "maximized is continuous (as opposed to discrete).\n",
    "\n",
    "You've had calculus (and we've reviewed some its topics).  Hence, you might recall that a function $f(x)$ exhibits an **extremum**, i.e., a **minimum** or **maximum**, at any point $x$ for which $f'(x)$ is zero and $f''(x)$ is nonzero.  When $f'(x)$ *and* $f''(x)$ vanish, the point is often called a **saddle point**, though that term is more meaningful in multiple dimensions."
   ]
  },
  {
   "cell_type": "markdown",
   "metadata": {},
   "source": [
    "***\n",
    "\n",
    "**Exercise**: Given some fencing of *fixed* length `L`, what is the largest area that fencing can enclose if arranged in a rectangle  of sides `a` and  `b`?  \n",
    "\n",
    "*Solution*:\n",
    "\n",
    "Here's the problem.  We want to maximize $A = ab$ where $2a+2b = L$ or $b = L/2 - a$.  We know $L$ and $b$ depends on $a$, so there is just one free parameter (i.e., we're in 1-D where we'll stay throughout).  Note that $a$ (and $b$) can range from 0 to $L/2$.\n",
    "\n",
    "Formally, we see a solution to\n",
    "\n",
    "$$\n",
    "  \\max_{a \\in [0,\\, L/2]} a\\left (\\frac{L}{2}-a \\right)\n",
    "$$\n",
    "\n",
    "which reads \"find the value of $a$ in the range $[0, L/2]$ that maximizes the quantity $f(a) = a(L/2-a)$.  Here, $f(a)$ is the **objective function**.\n",
    "\n",
    "Differentiation of $f(a)$ gives\n",
    "\n",
    "$$\n",
    "  f'(a) = L/2 - 2a \n",
    "$$\n",
    "\n",
    "which, when set to zero, requires that $a = L/4$.  Consequently, $b = L/2-a = L/4 = a$.  That is to say, our fence must form a square to maximize the area enclosed.\n",
    "\n",
    "***"
   ]
  },
  {
   "cell_type": "markdown",
   "metadata": {},
   "source": [
    "## The Connection To Nonlinear Functions\n",
    "\n",
    "\n",
    "As the fence exercise illustrates, if we can write down the derivative and explicitly find the point at which it vanishes, our problem is solved.  That is rarely the case.  Often, the functions of interest have complicated derivatives that make $f'(x) = 0$ a nonlinear equation.  We generally can't solve that problem directly. In many cases, we don't even have $f'(x)$, and at best, we can approximate it numerically using finite differences.  \n",
    "\n",
    "Further complicating matters is that even if we can solve  $f'(x)=0$, the result might not be an extremum (consider $f(x)=x^3$ and the  zeros of its derivative $3x^2$), and it might not be unique. \n",
    "\n",
    "Consider the following example (for $f(x) = \\sin(x^22)-3)^2$): "
   ]
  },
  {
   "cell_type": "code",
   "execution_count": 6,
   "metadata": {},
   "outputs": [
    {
     "data": {
      "image/png": "[encoded data removed]",
      "text/plain": [
       "<matplotlib.figure.Figure at 0x7fc31ffc9438>"
      ]
     },
     "metadata": {},
     "output_type": "display_data"
    }
   ],
   "source": [
    "nonlinear_plots.extrema()"
   ]
  },
  {
   "cell_type": "markdown",
   "metadata": {},
   "source": [
    "Of the three roots, two correspond to minima---but the left one (blue\n",
    "circle) is\n",
    "greater than the right one (red square), so \n",
    "is it really a minimum?  *Yes*, if\n",
    "we make the distinction between *local* and *global* minima.  For this\n",
    "problem, the right minimum is the *global* minimum, while the central\n",
    "root (green star) represents a local maximum ($f(x)$ is *unbounded*, i.e., \n",
    "there is no value $M < \\infty$ such that $|f(x)| < M$ for \n",
    "all possible values of $x$).  Given the choice, \n",
    "a global optimum is usualy preferred, but for many cases, we're at best\n",
    "guaranteed a local minimum.  There are techniques to increase our \n",
    "chances of finding a global optimum, but that's outside the present \n",
    "scope!\n",
    "\n",
    "### When the Derivative is Available\n",
    "\n",
    "If we have $f(x)$ and can evaluated $f'(x)$, then either Newton's method or the secant method can be applied to $g(x)=f'(x) = 0$.  (The same goes for multi-variable problems).  In fact, this approach (among others) in built into `scipy.optimize.minimize`, which the reader should investigate.  \n",
    "\n",
    "### When the Derivative is Unavailable\n",
    "\n",
    "If we had $f'(x)$, we could apply Newton's method to $g(x) = f'(x) = 0$.  Assuming we don't, how to proceed?  One option is to adapt the bisection method.  Now, the search is not based on the change of the sign of $f(x)$ but rather it's magnitude relative to the left and right points.  Again, we have to have isolated our (single) target value in some finite range, which may be no easy task (plotting helps).  "
   ]
  },
  {
   "cell_type": "markdown",
   "metadata": {
    "collapsed": true
   },
   "source": [
    "## Further Reading\n",
    "\n",
    "Checkout out the [SciPy documentation](https://docs.scipy.org/doc/scipy/reference/optimize.html) on optimization and root finding."
   ]
  }
 ],
 "metadata": {
  "kernelspec": {
   "display_name": "Python 3",
   "language": "python",
   "name": "python3"
  },
  "language_info": {
   "codemirror_mode": {
    "name": "ipython",
    "version": 3
   },
   "file_extension": ".py",
   "mimetype": "text/x-python",
   "name": "python",
   "nbconvert_exporter": "python",
   "pygments_lexer": "ipython3",
   "version": "3.6.2"
  }
 },
 "nbformat": 4,
 "nbformat_minor": 2
}
